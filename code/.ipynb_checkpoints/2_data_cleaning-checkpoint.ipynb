{
 "cells": [
  {
   "cell_type": "markdown",
   "metadata": {},
   "source": [
    "# Import Libraies"
   ]
  },
  {
   "cell_type": "code",
   "execution_count": 487,
   "metadata": {},
   "outputs": [],
   "source": [
    "import pandas as pd\n",
    "import re\n",
    "import numpy as np\n",
    "from nltk import sent_tokenize"
   ]
  },
  {
   "cell_type": "markdown",
   "metadata": {},
   "source": [
    "# Import Data"
   ]
  },
  {
   "cell_type": "code",
   "execution_count": 488,
   "metadata": {},
   "outputs": [],
   "source": [
    "df = pd.read_csv(\"../data/subreddit_posts.csv\", low_memory=False)"
   ]
  },
  {
   "cell_type": "code",
   "execution_count": 489,
   "metadata": {},
   "outputs": [],
   "source": [
    "df_quotes = df[df['subreddit'] == 'quotes']\n",
    "df_oneliners = df[df['subreddit'] == 'oneliners']"
   ]
  },
  {
   "cell_type": "code",
   "execution_count": 490,
   "metadata": {},
   "outputs": [
    {
     "data": {
      "text/html": [
       "<div>\n",
       "<style scoped>\n",
       "    .dataframe tbody tr th:only-of-type {\n",
       "        vertical-align: middle;\n",
       "    }\n",
       "\n",
       "    .dataframe tbody tr th {\n",
       "        vertical-align: top;\n",
       "    }\n",
       "\n",
       "    .dataframe thead th {\n",
       "        text-align: right;\n",
       "    }\n",
       "</style>\n",
       "<table border=\"1\" class=\"dataframe\">\n",
       "  <thead>\n",
       "    <tr style=\"text-align: right;\">\n",
       "      <th></th>\n",
       "      <th>author_fullname</th>\n",
       "      <th>created_utc</th>\n",
       "      <th>full_link</th>\n",
       "      <th>id</th>\n",
       "      <th>is_original_content</th>\n",
       "      <th>num_comments</th>\n",
       "      <th>pinned</th>\n",
       "      <th>score</th>\n",
       "      <th>selftext</th>\n",
       "      <th>subreddit</th>\n",
       "      <th>title</th>\n",
       "      <th>upvote_ratio</th>\n",
       "      <th>removed_by_category</th>\n",
       "    </tr>\n",
       "  </thead>\n",
       "  <tbody>\n",
       "    <tr>\n",
       "      <th>138225</th>\n",
       "      <td>t2_21w0u</td>\n",
       "      <td>1205266764</td>\n",
       "      <td>https://www.reddit.com/r/quotes/comments/6bpbp...</td>\n",
       "      <td>6bpbp</td>\n",
       "      <td>NaN</td>\n",
       "      <td>0</td>\n",
       "      <td>NaN</td>\n",
       "      <td>2</td>\n",
       "      <td>NaN</td>\n",
       "      <td>quotes</td>\n",
       "      <td>1978 - Ginger Rogers -\"You've got to stand for...</td>\n",
       "      <td>NaN</td>\n",
       "      <td>NaN</td>\n",
       "    </tr>\n",
       "    <tr>\n",
       "      <th>138226</th>\n",
       "      <td>t2_21w0u</td>\n",
       "      <td>1205266687</td>\n",
       "      <td>https://www.reddit.com/r/quotes/comments/6bpbf...</td>\n",
       "      <td>6bpbf</td>\n",
       "      <td>NaN</td>\n",
       "      <td>1</td>\n",
       "      <td>NaN</td>\n",
       "      <td>0</td>\n",
       "      <td>NaN</td>\n",
       "      <td>quotes</td>\n",
       "      <td>Nov. 9, 1978 - Alex Hamilton -\"Those who stand...</td>\n",
       "      <td>NaN</td>\n",
       "      <td>NaN</td>\n",
       "    </tr>\n",
       "    <tr>\n",
       "      <th>138227</th>\n",
       "      <td>t2_21w0u</td>\n",
       "      <td>1205266552</td>\n",
       "      <td>https://www.reddit.com/r/quotes/comments/6bpb8...</td>\n",
       "      <td>6bpb8</td>\n",
       "      <td>NaN</td>\n",
       "      <td>1</td>\n",
       "      <td>NaN</td>\n",
       "      <td>1</td>\n",
       "      <td>NaN</td>\n",
       "      <td>quotes</td>\n",
       "      <td>Rev. Peter Marshall \"Give to us clear vision t...</td>\n",
       "      <td>NaN</td>\n",
       "      <td>NaN</td>\n",
       "    </tr>\n",
       "  </tbody>\n",
       "</table>\n",
       "</div>"
      ],
      "text/plain": [
       "       author_fullname  created_utc  \\\n",
       "138225        t2_21w0u   1205266764   \n",
       "138226        t2_21w0u   1205266687   \n",
       "138227        t2_21w0u   1205266552   \n",
       "\n",
       "                                                full_link     id  \\\n",
       "138225  https://www.reddit.com/r/quotes/comments/6bpbp...  6bpbp   \n",
       "138226  https://www.reddit.com/r/quotes/comments/6bpbf...  6bpbf   \n",
       "138227  https://www.reddit.com/r/quotes/comments/6bpb8...  6bpb8   \n",
       "\n",
       "       is_original_content  num_comments pinned  score selftext subreddit  \\\n",
       "138225                 NaN             0    NaN      2      NaN    quotes   \n",
       "138226                 NaN             1    NaN      0      NaN    quotes   \n",
       "138227                 NaN             1    NaN      1      NaN    quotes   \n",
       "\n",
       "                                                    title  upvote_ratio  \\\n",
       "138225  1978 - Ginger Rogers -\"You've got to stand for...           NaN   \n",
       "138226  Nov. 9, 1978 - Alex Hamilton -\"Those who stand...           NaN   \n",
       "138227  Rev. Peter Marshall \"Give to us clear vision t...           NaN   \n",
       "\n",
       "       removed_by_category  \n",
       "138225                 NaN  \n",
       "138226                 NaN  \n",
       "138227                 NaN  "
      ]
     },
     "execution_count": 490,
     "metadata": {},
     "output_type": "execute_result"
    }
   ],
   "source": [
    "df_quotes.tail(3)"
   ]
  },
  {
   "cell_type": "code",
   "execution_count": 491,
   "metadata": {},
   "outputs": [
    {
     "data": {
      "text/html": [
       "<div>\n",
       "<style scoped>\n",
       "    .dataframe tbody tr th:only-of-type {\n",
       "        vertical-align: middle;\n",
       "    }\n",
       "\n",
       "    .dataframe tbody tr th {\n",
       "        vertical-align: top;\n",
       "    }\n",
       "\n",
       "    .dataframe thead th {\n",
       "        text-align: right;\n",
       "    }\n",
       "</style>\n",
       "<table border=\"1\" class=\"dataframe\">\n",
       "  <thead>\n",
       "    <tr style=\"text-align: right;\">\n",
       "      <th></th>\n",
       "      <th>author_fullname</th>\n",
       "      <th>created_utc</th>\n",
       "      <th>full_link</th>\n",
       "      <th>id</th>\n",
       "      <th>is_original_content</th>\n",
       "      <th>num_comments</th>\n",
       "      <th>pinned</th>\n",
       "      <th>score</th>\n",
       "      <th>selftext</th>\n",
       "      <th>subreddit</th>\n",
       "      <th>title</th>\n",
       "      <th>upvote_ratio</th>\n",
       "      <th>removed_by_category</th>\n",
       "    </tr>\n",
       "  </thead>\n",
       "  <tbody>\n",
       "    <tr>\n",
       "      <th>164511</th>\n",
       "      <td>t2_361vl</td>\n",
       "      <td>1246083231</td>\n",
       "      <td>https://www.reddit.com/r/oneliners/comments/8w...</td>\n",
       "      <td>8w4do</td>\n",
       "      <td>NaN</td>\n",
       "      <td>0</td>\n",
       "      <td>NaN</td>\n",
       "      <td>1</td>\n",
       "      <td>NaN</td>\n",
       "      <td>oneliners</td>\n",
       "      <td>We never really grow up, we only learn how to ...</td>\n",
       "      <td>NaN</td>\n",
       "      <td>NaN</td>\n",
       "    </tr>\n",
       "    <tr>\n",
       "      <th>164512</th>\n",
       "      <td>t2_361vl</td>\n",
       "      <td>1246083177</td>\n",
       "      <td>https://www.reddit.com/r/oneliners/comments/8w...</td>\n",
       "      <td>8w4dg</td>\n",
       "      <td>NaN</td>\n",
       "      <td>0</td>\n",
       "      <td>NaN</td>\n",
       "      <td>3</td>\n",
       "      <td>NaN</td>\n",
       "      <td>oneliners</td>\n",
       "      <td>Sex is not the answer. Sex is the question. “Y...</td>\n",
       "      <td>NaN</td>\n",
       "      <td>NaN</td>\n",
       "    </tr>\n",
       "    <tr>\n",
       "      <th>164513</th>\n",
       "      <td>t2_361vl</td>\n",
       "      <td>1246082941</td>\n",
       "      <td>https://www.reddit.com/r/oneliners/comments/8w...</td>\n",
       "      <td>8w4cr</td>\n",
       "      <td>NaN</td>\n",
       "      <td>0</td>\n",
       "      <td>NaN</td>\n",
       "      <td>3</td>\n",
       "      <td>NaN</td>\n",
       "      <td>oneliners</td>\n",
       "      <td>If sex is a pain in the ass, then you’re doing...</td>\n",
       "      <td>NaN</td>\n",
       "      <td>NaN</td>\n",
       "    </tr>\n",
       "  </tbody>\n",
       "</table>\n",
       "</div>"
      ],
      "text/plain": [
       "       author_fullname  created_utc  \\\n",
       "164511        t2_361vl   1246083231   \n",
       "164512        t2_361vl   1246083177   \n",
       "164513        t2_361vl   1246082941   \n",
       "\n",
       "                                                full_link     id  \\\n",
       "164511  https://www.reddit.com/r/oneliners/comments/8w...  8w4do   \n",
       "164512  https://www.reddit.com/r/oneliners/comments/8w...  8w4dg   \n",
       "164513  https://www.reddit.com/r/oneliners/comments/8w...  8w4cr   \n",
       "\n",
       "       is_original_content  num_comments pinned  score selftext  subreddit  \\\n",
       "164511                 NaN             0    NaN      1      NaN  oneliners   \n",
       "164512                 NaN             0    NaN      3      NaN  oneliners   \n",
       "164513                 NaN             0    NaN      3      NaN  oneliners   \n",
       "\n",
       "                                                    title  upvote_ratio  \\\n",
       "164511  We never really grow up, we only learn how to ...           NaN   \n",
       "164512  Sex is not the answer. Sex is the question. “Y...           NaN   \n",
       "164513  If sex is a pain in the ass, then you’re doing...           NaN   \n",
       "\n",
       "       removed_by_category  \n",
       "164511                 NaN  \n",
       "164512                 NaN  \n",
       "164513                 NaN  "
      ]
     },
     "execution_count": 491,
     "metadata": {},
     "output_type": "execute_result"
    }
   ],
   "source": [
    "df_oneliners.tail(3)"
   ]
  },
  {
   "cell_type": "code",
   "execution_count": 492,
   "metadata": {},
   "outputs": [
    {
     "name": "stdout",
     "output_type": "stream",
     "text": [
      "(138228, 13)\n",
      "(26286, 13)\n"
     ]
    }
   ],
   "source": [
    "print((df_quotes.shape))\n",
    "print(df_oneliners.shape)"
   ]
  },
  {
   "cell_type": "markdown",
   "metadata": {},
   "source": [
    "# Preliminary Data Cleaning"
   ]
  },
  {
   "cell_type": "markdown",
   "metadata": {},
   "source": [
    "## Clean Duplicates"
   ]
  },
  {
   "cell_type": "markdown",
   "metadata": {},
   "source": [
    "Some posts could be reposts with same contents, we will remove such duplicates."
   ]
  },
  {
   "cell_type": "code",
   "execution_count": 493,
   "metadata": {},
   "outputs": [
    {
     "name": "stdout",
     "output_type": "stream",
     "text": [
      "138228\n",
      "26286\n"
     ]
    }
   ],
   "source": [
    "# First check if our data contains any duplicated ids\n",
    "\n",
    "# For r/quotes\n",
    "print(len(df_quotes['id'].unique()))\n",
    "# For r/oneliners\n",
    "print(len(df_oneliners['id'].unique()))"
   ]
  },
  {
   "cell_type": "markdown",
   "metadata": {},
   "source": [
    "We see that all rows of our datasets contain unique posts. Next we will check to see if the title has any duplicates."
   ]
  },
  {
   "cell_type": "code",
   "execution_count": 494,
   "metadata": {},
   "outputs": [
    {
     "name": "stdout",
     "output_type": "stream",
     "text": [
      "130168\n",
      "25528\n"
     ]
    }
   ],
   "source": [
    "print(len(df_quotes['title'].unique()))\n",
    "print(len(df_oneliners['title'].unique()))"
   ]
  },
  {
   "cell_type": "code",
   "execution_count": 495,
   "metadata": {},
   "outputs": [
    {
     "name": "stdout",
     "output_type": "stream",
     "text": [
      "No. of duplicate title for r/quotes:  8060\n",
      "No. of duplicate title for r/oneliners:  758\n"
     ]
    }
   ],
   "source": [
    "print(\"No. of duplicate title for r/quotes: \", df_quotes.shape[0] - len(df_quotes['title'].unique()))\n",
    "print(\"No. of duplicate title for r/oneliners: \",df_oneliners.shape[0]  - len(df_oneliners['title'].unique()))"
   ]
  },
  {
   "cell_type": "markdown",
   "metadata": {},
   "source": [
    "We will keep the earliest occurence of the posts while dropping other duplicates."
   ]
  },
  {
   "cell_type": "code",
   "execution_count": 496,
   "metadata": {},
   "outputs": [],
   "source": [
    "# drop dups\n",
    "df_quotes = df_quotes.drop_duplicates(subset = \"title\", keep = \"last\")\n",
    "df_oneliners = df_oneliners.drop_duplicates(subset = \"title\", keep = \"last\")"
   ]
  },
  {
   "cell_type": "code",
   "execution_count": 497,
   "metadata": {},
   "outputs": [
    {
     "name": "stdout",
     "output_type": "stream",
     "text": [
      "(130168, 13)\n",
      "(25528, 13)\n"
     ]
    }
   ],
   "source": [
    "print(df_quotes.shape)\n",
    "print(df_oneliners.shape)"
   ]
  },
  {
   "cell_type": "markdown",
   "metadata": {},
   "source": [
    "We have now dropped all title duplicates."
   ]
  },
  {
   "cell_type": "markdown",
   "metadata": {},
   "source": [
    "## Missing Titles"
   ]
  },
  {
   "cell_type": "markdown",
   "metadata": {},
   "source": [
    "Since for each subreddit, the quotes and oneliners will typically appear in the title, we are mainly concerned with missing titles. "
   ]
  },
  {
   "cell_type": "code",
   "execution_count": 498,
   "metadata": {},
   "outputs": [
    {
     "data": {
      "text/html": [
       "<div>\n",
       "<style scoped>\n",
       "    .dataframe tbody tr th:only-of-type {\n",
       "        vertical-align: middle;\n",
       "    }\n",
       "\n",
       "    .dataframe tbody tr th {\n",
       "        vertical-align: top;\n",
       "    }\n",
       "\n",
       "    .dataframe thead th {\n",
       "        text-align: right;\n",
       "    }\n",
       "</style>\n",
       "<table border=\"1\" class=\"dataframe\">\n",
       "  <thead>\n",
       "    <tr style=\"text-align: right;\">\n",
       "      <th></th>\n",
       "      <th>author_fullname</th>\n",
       "      <th>created_utc</th>\n",
       "      <th>full_link</th>\n",
       "      <th>id</th>\n",
       "      <th>is_original_content</th>\n",
       "      <th>num_comments</th>\n",
       "      <th>pinned</th>\n",
       "      <th>score</th>\n",
       "      <th>selftext</th>\n",
       "      <th>subreddit</th>\n",
       "      <th>title</th>\n",
       "      <th>upvote_ratio</th>\n",
       "      <th>removed_by_category</th>\n",
       "    </tr>\n",
       "  </thead>\n",
       "  <tbody>\n",
       "    <tr>\n",
       "      <th>91024</th>\n",
       "      <td>NaN</td>\n",
       "      <td>1494895719</td>\n",
       "      <td>https://www.reddit.com/r/quotes/comments/6bec4...</td>\n",
       "      <td>6bec4s</td>\n",
       "      <td>NaN</td>\n",
       "      <td>1</td>\n",
       "      <td>NaN</td>\n",
       "      <td>0</td>\n",
       "      <td>[deleted]</td>\n",
       "      <td>quotes</td>\n",
       "      <td>NaN</td>\n",
       "      <td>NaN</td>\n",
       "      <td>NaN</td>\n",
       "    </tr>\n",
       "  </tbody>\n",
       "</table>\n",
       "</div>"
      ],
      "text/plain": [
       "      author_fullname  created_utc  \\\n",
       "91024             NaN   1494895719   \n",
       "\n",
       "                                               full_link      id  \\\n",
       "91024  https://www.reddit.com/r/quotes/comments/6bec4...  6bec4s   \n",
       "\n",
       "      is_original_content  num_comments pinned  score   selftext subreddit  \\\n",
       "91024                 NaN             1    NaN      0  [deleted]    quotes   \n",
       "\n",
       "      title  upvote_ratio removed_by_category  \n",
       "91024   NaN           NaN                 NaN  "
      ]
     },
     "execution_count": 498,
     "metadata": {},
     "output_type": "execute_result"
    }
   ],
   "source": [
    "df_quotes[df_quotes['title'].isnull()]"
   ]
  },
  {
   "cell_type": "code",
   "execution_count": 499,
   "metadata": {},
   "outputs": [
    {
     "data": {
      "text/html": [
       "<div>\n",
       "<style scoped>\n",
       "    .dataframe tbody tr th:only-of-type {\n",
       "        vertical-align: middle;\n",
       "    }\n",
       "\n",
       "    .dataframe tbody tr th {\n",
       "        vertical-align: top;\n",
       "    }\n",
       "\n",
       "    .dataframe thead th {\n",
       "        text-align: right;\n",
       "    }\n",
       "</style>\n",
       "<table border=\"1\" class=\"dataframe\">\n",
       "  <thead>\n",
       "    <tr style=\"text-align: right;\">\n",
       "      <th></th>\n",
       "      <th>author_fullname</th>\n",
       "      <th>created_utc</th>\n",
       "      <th>full_link</th>\n",
       "      <th>id</th>\n",
       "      <th>is_original_content</th>\n",
       "      <th>num_comments</th>\n",
       "      <th>pinned</th>\n",
       "      <th>score</th>\n",
       "      <th>selftext</th>\n",
       "      <th>subreddit</th>\n",
       "      <th>title</th>\n",
       "      <th>upvote_ratio</th>\n",
       "      <th>removed_by_category</th>\n",
       "    </tr>\n",
       "  </thead>\n",
       "  <tbody>\n",
       "  </tbody>\n",
       "</table>\n",
       "</div>"
      ],
      "text/plain": [
       "Empty DataFrame\n",
       "Columns: [author_fullname, created_utc, full_link, id, is_original_content, num_comments, pinned, score, selftext, subreddit, title, upvote_ratio, removed_by_category]\n",
       "Index: []"
      ]
     },
     "execution_count": 499,
     "metadata": {},
     "output_type": "execute_result"
    }
   ],
   "source": [
    "df_oneliners[df_oneliners['title'].isnull()]"
   ]
  },
  {
   "cell_type": "markdown",
   "metadata": {},
   "source": [
    "We have 1 case of missing title for df_quotes, we will remove this title."
   ]
  },
  {
   "cell_type": "code",
   "execution_count": 500,
   "metadata": {},
   "outputs": [],
   "source": [
    "df_quotes = df_quotes[~df_quotes['title'].isnull()]"
   ]
  },
  {
   "cell_type": "code",
   "execution_count": 501,
   "metadata": {},
   "outputs": [
    {
     "data": {
      "text/plain": [
       "(130167, 13)"
      ]
     },
     "execution_count": 501,
     "metadata": {},
     "output_type": "execute_result"
    }
   ],
   "source": [
    "df_quotes.shape"
   ]
  },
  {
   "cell_type": "markdown",
   "metadata": {},
   "source": [
    "We have now dropped the row with missing title."
   ]
  },
  {
   "cell_type": "markdown",
   "metadata": {},
   "source": [
    "## Remove titles which are too short."
   ]
  },
  {
   "cell_type": "markdown",
   "metadata": {},
   "source": [
    "Quotes or oneliners which are too short are unlikely to be legitimate quotes/oneliners. For the project, we will remove rows with titles less than 2 words."
   ]
  },
  {
   "cell_type": "code",
   "execution_count": 502,
   "metadata": {},
   "outputs": [],
   "source": [
    "def sentence_length(row):\n",
    "    # Using regex to find all words, including those with quotes such as what's\n",
    "    split_str = re.findall(r\"[\\w+|\\w+\\'\\w+]+\", row['title'])\n",
    "    row['title_length'] = len(split_str)\n",
    "    return row\n",
    "    \n",
    "df_quotes = df_quotes.apply(sentence_length, axis = 1)"
   ]
  },
  {
   "cell_type": "code",
   "execution_count": 503,
   "metadata": {},
   "outputs": [],
   "source": [
    "df_oneliners = df_oneliners.apply(sentence_length, axis = 1)"
   ]
  },
  {
   "cell_type": "code",
   "execution_count": 504,
   "metadata": {},
   "outputs": [
    {
     "name": "stdout",
     "output_type": "stream",
     "text": [
      "(2330, 2)\n"
     ]
    },
    {
     "data": {
      "text/html": [
       "<div>\n",
       "<style scoped>\n",
       "    .dataframe tbody tr th:only-of-type {\n",
       "        vertical-align: middle;\n",
       "    }\n",
       "\n",
       "    .dataframe tbody tr th {\n",
       "        vertical-align: top;\n",
       "    }\n",
       "\n",
       "    .dataframe thead th {\n",
       "        text-align: right;\n",
       "    }\n",
       "</style>\n",
       "<table border=\"1\" class=\"dataframe\">\n",
       "  <thead>\n",
       "    <tr style=\"text-align: right;\">\n",
       "      <th></th>\n",
       "      <th>title</th>\n",
       "      <th>title_length</th>\n",
       "    </tr>\n",
       "  </thead>\n",
       "  <tbody>\n",
       "    <tr>\n",
       "      <th>19</th>\n",
       "      <td>Risking Everything</td>\n",
       "      <td>2</td>\n",
       "    </tr>\n",
       "    <tr>\n",
       "      <th>93</th>\n",
       "      <td>Unknown quoter</td>\n",
       "      <td>2</td>\n",
       "    </tr>\n",
       "    <tr>\n",
       "      <th>183</th>\n",
       "      <td>brash, adj.</td>\n",
       "      <td>2</td>\n",
       "    </tr>\n",
       "    <tr>\n",
       "      <th>204</th>\n",
       "      <td>by : me ...</td>\n",
       "      <td>2</td>\n",
       "    </tr>\n",
       "    <tr>\n",
       "      <th>234</th>\n",
       "      <td>Forgive yourself</td>\n",
       "      <td>2</td>\n",
       "    </tr>\n",
       "  </tbody>\n",
       "</table>\n",
       "</div>"
      ],
      "text/plain": [
       "                  title  title_length\n",
       "19   Risking Everything             2\n",
       "93       Unknown quoter             2\n",
       "183         brash, adj.             2\n",
       "204         by : me ...             2\n",
       "234    Forgive yourself             2"
      ]
     },
     "execution_count": 504,
     "metadata": {},
     "output_type": "execute_result"
    }
   ],
   "source": [
    "print(df_quotes[df_quotes['title_length']<=2][[\"title\", \"title_length\"]].shape)\n",
    "df_quotes[df_quotes['title_length']<=2][[\"title\", \"title_length\"]].head()"
   ]
  },
  {
   "cell_type": "code",
   "execution_count": 505,
   "metadata": {},
   "outputs": [
    {
     "name": "stdout",
     "output_type": "stream",
     "text": [
      "(323, 2)\n"
     ]
    },
    {
     "data": {
      "text/html": [
       "<div>\n",
       "<style scoped>\n",
       "    .dataframe tbody tr th:only-of-type {\n",
       "        vertical-align: middle;\n",
       "    }\n",
       "\n",
       "    .dataframe tbody tr th {\n",
       "        vertical-align: top;\n",
       "    }\n",
       "\n",
       "    .dataframe thead th {\n",
       "        text-align: right;\n",
       "    }\n",
       "</style>\n",
       "<table border=\"1\" class=\"dataframe\">\n",
       "  <thead>\n",
       "    <tr style=\"text-align: right;\">\n",
       "      <th></th>\n",
       "      <th>title</th>\n",
       "      <th>title_length</th>\n",
       "    </tr>\n",
       "  </thead>\n",
       "  <tbody>\n",
       "    <tr>\n",
       "      <th>138299</th>\n",
       "      <td>Breast feet</td>\n",
       "      <td>2</td>\n",
       "    </tr>\n",
       "    <tr>\n",
       "      <th>138671</th>\n",
       "      <td>Hambur ger</td>\n",
       "      <td>2</td>\n",
       "    </tr>\n",
       "    <tr>\n",
       "      <th>138678</th>\n",
       "      <td>My dad</td>\n",
       "      <td>2</td>\n",
       "    </tr>\n",
       "    <tr>\n",
       "      <th>138819</th>\n",
       "      <td>⎯⎯⎯</td>\n",
       "      <td>0</td>\n",
       "    </tr>\n",
       "    <tr>\n",
       "      <th>139342</th>\n",
       "      <td>Structural integrity</td>\n",
       "      <td>2</td>\n",
       "    </tr>\n",
       "  </tbody>\n",
       "</table>\n",
       "</div>"
      ],
      "text/plain": [
       "                       title  title_length\n",
       "138299           Breast feet             2\n",
       "138671            Hambur ger             2\n",
       "138678                My dad             2\n",
       "138819                   ⎯⎯⎯             0\n",
       "139342  Structural integrity             2"
      ]
     },
     "execution_count": 505,
     "metadata": {},
     "output_type": "execute_result"
    }
   ],
   "source": [
    "print(df_oneliners[df_oneliners['title_length']<=2][[\"title\", \"title_length\"]].shape)\n",
    "df_oneliners[df_oneliners['title_length']<=2][[\"title\", \"title_length\"]].head()"
   ]
  },
  {
   "cell_type": "markdown",
   "metadata": {},
   "source": [
    "We see that these titles may contain some quotes/oneliners, but they may not really be significant and meaningful quotes or oneliners. Many of them also do not contain quotes or are just symbols. Furthermore, they do not make up a significant percentage of our dataset.\n",
    "\n",
    "As such, we will not include them in our analysis."
   ]
  },
  {
   "cell_type": "code",
   "execution_count": 506,
   "metadata": {},
   "outputs": [],
   "source": [
    "df_quotes = df_quotes[df_quotes['title_length']>2]\n",
    "df_oneliners = df_oneliners[df_oneliners['title_length']>2]"
   ]
  },
  {
   "cell_type": "code",
   "execution_count": 507,
   "metadata": {},
   "outputs": [
    {
     "name": "stdout",
     "output_type": "stream",
     "text": [
      "(127837, 14)\n",
      "(25205, 14)\n"
     ]
    }
   ],
   "source": [
    "print(df_quotes.shape)\n",
    "print(df_oneliners.shape)"
   ]
  },
  {
   "cell_type": "markdown",
   "metadata": {},
   "source": [
    "## Remove titles with more than 1 sentence"
   ]
  },
  {
   "cell_type": "markdown",
   "metadata": {},
   "source": [
    "Since r/oneliners contains only titles with 1 sentence, to the comparison fair, we will only retain those quotes from r/quotes with 1 sentence. "
   ]
  },
  {
   "cell_type": "code",
   "execution_count": 469,
   "metadata": {},
   "outputs": [],
   "source": [
    "# First remove columns which are irrelevant\n",
    "df_quotes = df_quotes[[\"title\", 'title_length', 'subreddit']].reset_index(drop = True)\n",
    "df_oneliners = df_oneliners[[\"title\", 'title_length', 'subreddit']].reset_index(drop = True)"
   ]
  },
  {
   "cell_type": "code",
   "execution_count": 470,
   "metadata": {},
   "outputs": [],
   "source": [
    "def num_sentence(row):\n",
    "    sentence_list = sent_tokenize(row['title'])\n",
    "    if len(sentence_list) == 1:\n",
    "        return row\n",
    "    else:\n",
    "        pass\n",
    "df_quotes = df_quotes.apply(num_sentence, axis = 1)\n",
    "df_oneliners = df_oneliners.apply(num_sentence, axis = 1)"
   ]
  },
  {
   "cell_type": "code",
   "execution_count": 471,
   "metadata": {},
   "outputs": [],
   "source": [
    "df_quotes = df_quotes[~df_quotes['title'].isnull()].reset_index(drop = True)\n",
    "df_oneliners = df_oneliners[~df_oneliners['title'].isnull()].reset_index(drop = True)"
   ]
  },
  {
   "cell_type": "code",
   "execution_count": 472,
   "metadata": {},
   "outputs": [
    {
     "name": "stdout",
     "output_type": "stream",
     "text": [
      "(54188, 3)\n",
      "(22479, 3)\n"
     ]
    }
   ],
   "source": [
    "print(df_quotes.shape)\n",
    "print(df_oneliners.shape)"
   ]
  },
  {
   "cell_type": "markdown",
   "metadata": {},
   "source": [
    "## Extract content of quote"
   ]
  },
  {
   "cell_type": "code",
   "execution_count": 473,
   "metadata": {},
   "outputs": [
    {
     "data": {
      "text/plain": [
       "'“The worst thing someone can do to each other is pretend that they care.” ― Sarvesh Jain'"
      ]
     },
     "execution_count": 473,
     "metadata": {},
     "output_type": "execute_result"
    }
   ],
   "source": [
    "# Example quote\n",
    "df_quotes['title'][10]"
   ]
  },
  {
   "cell_type": "markdown",
   "metadata": {},
   "source": [
    "The titles from r/quotes may also contain author names, which we do not want. Sometimes, the title may not be quotes as well. Hence, for this step, we will obtain just the contents between two quotation marks, which will be our quotes."
   ]
  },
  {
   "cell_type": "code",
   "execution_count": 485,
   "metadata": {},
   "outputs": [],
   "source": [
    "# Function to get string in between 2 quotation marks\n",
    "def get_just_quotes(row):\n",
    "    match = re.search(r'“(.*?)”|\"(.*)\"',row['title'])\n",
    "    if match:\n",
    "        row['title'] = match.group().strip('\"\"').strip('“”')\n",
    "    else:\n",
    "        row['title'] = np.nan\n",
    "        pass\n",
    "    return row\n",
    "df_quotes = df_quotes.apply(get_just_quotes, axis = 1)"
   ]
  },
  {
   "cell_type": "code",
   "execution_count": 475,
   "metadata": {},
   "outputs": [],
   "source": [
    "df_quotes = df_quotes[~df_quotes['title'].isnull()].reset_index(drop = True)"
   ]
  },
  {
   "cell_type": "code",
   "execution_count": 476,
   "metadata": {},
   "outputs": [
    {
     "name": "stdout",
     "output_type": "stream",
     "text": [
      "(29726, 3)\n",
      "(22479, 3)\n"
     ]
    }
   ],
   "source": [
    "print(df_quotes.shape)\n",
    "print(df_oneliners.shape)"
   ]
  },
  {
   "cell_type": "code",
   "execution_count": 477,
   "metadata": {},
   "outputs": [
    {
     "data": {
      "text/html": [
       "<div>\n",
       "<style scoped>\n",
       "    .dataframe tbody tr th:only-of-type {\n",
       "        vertical-align: middle;\n",
       "    }\n",
       "\n",
       "    .dataframe tbody tr th {\n",
       "        vertical-align: top;\n",
       "    }\n",
       "\n",
       "    .dataframe thead th {\n",
       "        text-align: right;\n",
       "    }\n",
       "</style>\n",
       "<table border=\"1\" class=\"dataframe\">\n",
       "  <thead>\n",
       "    <tr style=\"text-align: right;\">\n",
       "      <th></th>\n",
       "      <th>title</th>\n",
       "      <th>title_length</th>\n",
       "      <th>subreddit</th>\n",
       "    </tr>\n",
       "  </thead>\n",
       "  <tbody>\n",
       "    <tr>\n",
       "      <th>0</th>\n",
       "      <td>We all think we're right, and then we change o...</td>\n",
       "      <td>17.0</td>\n",
       "      <td>quotes</td>\n",
       "    </tr>\n",
       "    <tr>\n",
       "      <th>1</th>\n",
       "      <td>Life feels good cause I just finger the bad bitch</td>\n",
       "      <td>10.0</td>\n",
       "      <td>quotes</td>\n",
       "    </tr>\n",
       "    <tr>\n",
       "      <th>2</th>\n",
       "      <td>I am a God, So hurry up with my damn massage, ...</td>\n",
       "      <td>24.0</td>\n",
       "      <td>quotes</td>\n",
       "    </tr>\n",
       "    <tr>\n",
       "      <th>3</th>\n",
       "      <td>Stories may well be lies, but they are good li...</td>\n",
       "      <td>16.0</td>\n",
       "      <td>quotes</td>\n",
       "    </tr>\n",
       "    <tr>\n",
       "      <th>4</th>\n",
       "      <td>Don't pursue happiness, rather design a lifest...</td>\n",
       "      <td>20.0</td>\n",
       "      <td>quotes</td>\n",
       "    </tr>\n",
       "  </tbody>\n",
       "</table>\n",
       "</div>"
      ],
      "text/plain": [
       "                                               title  title_length subreddit\n",
       "0  We all think we're right, and then we change o...          17.0    quotes\n",
       "1  Life feels good cause I just finger the bad bitch          10.0    quotes\n",
       "2  I am a God, So hurry up with my damn massage, ...          24.0    quotes\n",
       "3  Stories may well be lies, but they are good li...          16.0    quotes\n",
       "4  Don't pursue happiness, rather design a lifest...          20.0    quotes"
      ]
     },
     "execution_count": 477,
     "metadata": {},
     "output_type": "execute_result"
    }
   ],
   "source": [
    "df_quotes.head()"
   ]
  },
  {
   "cell_type": "code",
   "execution_count": 478,
   "metadata": {},
   "outputs": [
    {
     "data": {
      "text/html": [
       "<div>\n",
       "<style scoped>\n",
       "    .dataframe tbody tr th:only-of-type {\n",
       "        vertical-align: middle;\n",
       "    }\n",
       "\n",
       "    .dataframe tbody tr th {\n",
       "        vertical-align: top;\n",
       "    }\n",
       "\n",
       "    .dataframe thead th {\n",
       "        text-align: right;\n",
       "    }\n",
       "</style>\n",
       "<table border=\"1\" class=\"dataframe\">\n",
       "  <thead>\n",
       "    <tr style=\"text-align: right;\">\n",
       "      <th></th>\n",
       "      <th>title</th>\n",
       "      <th>title_length</th>\n",
       "      <th>subreddit</th>\n",
       "    </tr>\n",
       "  </thead>\n",
       "  <tbody>\n",
       "    <tr>\n",
       "      <th>0</th>\n",
       "      <td>“d” is the letter “a” with a boner</td>\n",
       "      <td>8.0</td>\n",
       "      <td>oneliners</td>\n",
       "    </tr>\n",
       "    <tr>\n",
       "      <th>1</th>\n",
       "      <td>I got a Masterclass subscription for my birthd...</td>\n",
       "      <td>14.0</td>\n",
       "      <td>oneliners</td>\n",
       "    </tr>\n",
       "    <tr>\n",
       "      <th>2</th>\n",
       "      <td>That avocado crisis was between the Hass and H...</td>\n",
       "      <td>10.0</td>\n",
       "      <td>oneliners</td>\n",
       "    </tr>\n",
       "    <tr>\n",
       "      <th>3</th>\n",
       "      <td>My wife wanted two kittens, but I am the man i...</td>\n",
       "      <td>19.0</td>\n",
       "      <td>oneliners</td>\n",
       "    </tr>\n",
       "    <tr>\n",
       "      <th>4</th>\n",
       "      <td>Jokes on death are dead nowadays...</td>\n",
       "      <td>6.0</td>\n",
       "      <td>oneliners</td>\n",
       "    </tr>\n",
       "  </tbody>\n",
       "</table>\n",
       "</div>"
      ],
      "text/plain": [
       "                                               title  title_length  subreddit\n",
       "0                 “d” is the letter “a” with a boner           8.0  oneliners\n",
       "1  I got a Masterclass subscription for my birthd...          14.0  oneliners\n",
       "2  That avocado crisis was between the Hass and H...          10.0  oneliners\n",
       "3  My wife wanted two kittens, but I am the man i...          19.0  oneliners\n",
       "4                Jokes on death are dead nowadays...           6.0  oneliners"
      ]
     },
     "execution_count": 478,
     "metadata": {},
     "output_type": "execute_result"
    }
   ],
   "source": [
    "df_oneliners.head()"
   ]
  },
  {
   "cell_type": "markdown",
   "metadata": {},
   "source": [
    "# Export CSV"
   ]
  },
  {
   "cell_type": "markdown",
   "metadata": {},
   "source": [
    "We now have two dataframes containing 29726 posts from r/quotes and 22479 from r/oneliners. Now let's combine the dataframes and export as csv in order to proceed with the next steps."
   ]
  },
  {
   "cell_type": "code",
   "execution_count": 479,
   "metadata": {},
   "outputs": [
    {
     "data": {
      "text/plain": [
       "(52205, 3)"
      ]
     },
     "execution_count": 479,
     "metadata": {},
     "output_type": "execute_result"
    }
   ],
   "source": [
    "# combine both df by concatenating\n",
    "df_combined = pd.concat([df_quotes, df_oneliners]).reset_index(drop = True)\n",
    "df_combined.shape"
   ]
  },
  {
   "cell_type": "code",
   "execution_count": 483,
   "metadata": {},
   "outputs": [
    {
     "data": {
      "text/plain": [
       "title           0\n",
       "title_length    0\n",
       "subreddit       0\n",
       "dtype: int64"
      ]
     },
     "execution_count": 483,
     "metadata": {},
     "output_type": "execute_result"
    }
   ],
   "source": [
    "df_combined.isnull().sum()"
   ]
  },
  {
   "cell_type": "code",
   "execution_count": 480,
   "metadata": {
    "scrolled": true
   },
   "outputs": [
    {
     "data": {
      "text/html": [
       "<div>\n",
       "<style scoped>\n",
       "    .dataframe tbody tr th:only-of-type {\n",
       "        vertical-align: middle;\n",
       "    }\n",
       "\n",
       "    .dataframe tbody tr th {\n",
       "        vertical-align: top;\n",
       "    }\n",
       "\n",
       "    .dataframe thead th {\n",
       "        text-align: right;\n",
       "    }\n",
       "</style>\n",
       "<table border=\"1\" class=\"dataframe\">\n",
       "  <thead>\n",
       "    <tr style=\"text-align: right;\">\n",
       "      <th></th>\n",
       "      <th>title</th>\n",
       "      <th>title_length</th>\n",
       "      <th>subreddit</th>\n",
       "    </tr>\n",
       "  </thead>\n",
       "  <tbody>\n",
       "    <tr>\n",
       "      <th>52200</th>\n",
       "      <td>How about you?</td>\n",
       "      <td>3.0</td>\n",
       "      <td>oneliners</td>\n",
       "    </tr>\n",
       "    <tr>\n",
       "      <th>52201</th>\n",
       "      <td>Abstraction is drawing strength from a pool of...</td>\n",
       "      <td>18.0</td>\n",
       "      <td>oneliners</td>\n",
       "    </tr>\n",
       "    <tr>\n",
       "      <th>52202</th>\n",
       "      <td>Wanna hear a good joke?</td>\n",
       "      <td>5.0</td>\n",
       "      <td>oneliners</td>\n",
       "    </tr>\n",
       "    <tr>\n",
       "      <th>52203</th>\n",
       "      <td>We never really grow up, we only learn how to ...</td>\n",
       "      <td>13.0</td>\n",
       "      <td>oneliners</td>\n",
       "    </tr>\n",
       "    <tr>\n",
       "      <th>52204</th>\n",
       "      <td>If sex is a pain in the ass, then you’re doing...</td>\n",
       "      <td>14.0</td>\n",
       "      <td>oneliners</td>\n",
       "    </tr>\n",
       "  </tbody>\n",
       "</table>\n",
       "</div>"
      ],
      "text/plain": [
       "                                                   title  title_length  \\\n",
       "52200                                     How about you?           3.0   \n",
       "52201  Abstraction is drawing strength from a pool of...          18.0   \n",
       "52202                            Wanna hear a good joke?           5.0   \n",
       "52203  We never really grow up, we only learn how to ...          13.0   \n",
       "52204  If sex is a pain in the ass, then you’re doing...          14.0   \n",
       "\n",
       "       subreddit  \n",
       "52200  oneliners  \n",
       "52201  oneliners  \n",
       "52202  oneliners  \n",
       "52203  oneliners  \n",
       "52204  oneliners  "
      ]
     },
     "execution_count": 480,
     "metadata": {},
     "output_type": "execute_result"
    }
   ],
   "source": [
    "df_combined.tail()"
   ]
  },
  {
   "cell_type": "code",
   "execution_count": 484,
   "metadata": {},
   "outputs": [],
   "source": [
    "# Export as csv\n",
    "#df_combined.to_csv(\"../data/subreddit_posts_cleaned.csv\", index = False)"
   ]
  }
 ],
 "metadata": {
  "kernelspec": {
   "display_name": "Python 3",
   "language": "python",
   "name": "python3"
  },
  "language_info": {
   "codemirror_mode": {
    "name": "ipython",
    "version": 3
   },
   "file_extension": ".py",
   "mimetype": "text/x-python",
   "name": "python",
   "nbconvert_exporter": "python",
   "pygments_lexer": "ipython3",
   "version": "3.8.5"
  },
  "toc": {
   "base_numbering": 1,
   "nav_menu": {},
   "number_sections": true,
   "sideBar": true,
   "skip_h1_title": false,
   "title_cell": "Table of Contents",
   "title_sidebar": "Contents",
   "toc_cell": false,
   "toc_position": {
    "height": "calc(100% - 180px)",
    "left": "10px",
    "top": "150px",
    "width": "256px"
   },
   "toc_section_display": true,
   "toc_window_display": true
  }
 },
 "nbformat": 4,
 "nbformat_minor": 4
}
