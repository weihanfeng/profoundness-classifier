{
 "cells": [
  {
   "cell_type": "code",
   "execution_count": 70,
   "metadata": {},
   "outputs": [],
   "source": [
    "# For sending GET requests from the API\n",
    "import requests\n",
    "# For saving access tokens and for file management when creating and adding to the dataset\n",
    "import os\n",
    "# For dealing with json responses we receive from the API\n",
    "import json\n",
    "\n",
    "import pandas as pd\n",
    "\n",
    "from nltk import sent_tokenize\n",
    "import tweepy"
   ]
  },
  {
   "cell_type": "code",
   "execution_count": 36,
   "metadata": {},
   "outputs": [],
   "source": [
    "api_key = 'Oj9WyHLGjiEf2PXuVkv4saOSr'\n",
    "api_secret = 'rdfLTDVCZygrRDpxGNgpM3vUIlPrPUDgPTtyeVHxkrgFscf4ms'\n",
    "access_token = '1455910828276797444-hc1gZGyycZMNx0rTcIxdbO0bc5GH8f'\n",
    "access_token_secret = 'vSa5Edl7orq5CyGJPbRkYynDiq1pLtsubMo8dzdFbHPBT'\n",
    "bearer_token = 'AAAAAAAAAAAAAAAAAAAAAJ33ZwEAAAAAXPxQeyRFKbx4WE77P9eaeDs76C0%3D5S80dhY5TviMNjXTIYT86Qz9P5WKt1brL3eAsfXuWWCjo7UPTA'"
   ]
  },
  {
   "cell_type": "code",
   "execution_count": 37,
   "metadata": {},
   "outputs": [],
   "source": [
    "auth = tweepy.OAuthHandler(api_key, api_secret)\n",
    "auth.set_access_token(access_token, access_token_secret)\n",
    "api = tweepy.API(auth)"
   ]
  },
  {
   "cell_type": "code",
   "execution_count": 63,
   "metadata": {},
   "outputs": [
    {
     "name": "stderr",
     "output_type": "stream",
     "text": [
      "Unexpected parameter: id\n",
      "Unexpected parameter: id\n",
      "Unexpected parameter: id\n",
      "Unexpected parameter: id\n",
      "Unexpected parameter: id\n",
      "Unexpected parameter: id\n",
      "Unexpected parameter: id\n",
      "Unexpected parameter: id\n",
      "Unexpected parameter: id\n",
      "Unexpected parameter: id\n",
      "Unexpected parameter: id\n",
      "Unexpected parameter: id\n",
      "Unexpected parameter: id\n",
      "Unexpected parameter: id\n",
      "Unexpected parameter: id\n",
      "Unexpected parameter: id\n",
      "Unexpected parameter: id\n",
      "Unexpected parameter: id\n",
      "Unexpected parameter: id\n",
      "Unexpected parameter: id\n",
      "Unexpected parameter: id\n",
      "Unexpected parameter: id\n",
      "Unexpected parameter: id\n",
      "Unexpected parameter: id\n",
      "Unexpected parameter: id\n"
     ]
    }
   ],
   "source": [
    "cursor = tweepy.Cursor(api.user_timeline, id = 'b0ringtweets', tweet_mode = 'extended').items(500)\n",
    "\n",
    "# all tweets\n",
    "collected_tweets_list = []\n",
    "for i in cursor:\n",
    "    if '@' not in i.full_text and 'RT' not in i.full_text and r'http' not in i.full_text:\n",
    "        collected_tweets_list.append(i.full_text)"
   ]
  },
  {
   "cell_type": "code",
   "execution_count": 64,
   "metadata": {},
   "outputs": [
    {
     "data": {
      "text/plain": [
       "228"
      ]
     },
     "execution_count": 64,
     "metadata": {},
     "output_type": "execute_result"
    }
   ],
   "source": [
    "len(collected_tweets_list)"
   ]
  },
  {
   "cell_type": "code",
   "execution_count": 67,
   "metadata": {},
   "outputs": [],
   "source": [
    "tweets_df = pd.DataFrame(collected_tweets_list, columns=['title'])"
   ]
  },
  {
   "cell_type": "code",
   "execution_count": 72,
   "metadata": {},
   "outputs": [],
   "source": [
    "# only collect those with one sentences\n",
    "def num_sentence(row):\n",
    "    sentence_list = sent_tokenize(row['title'])\n",
    "    if len(sentence_list) == 1:\n",
    "        return row\n",
    "    else:\n",
    "        pass\n",
    "tweets_df_1 = tweets_df.apply(num_sentence, axis = 1)"
   ]
  },
  {
   "cell_type": "code",
   "execution_count": 76,
   "metadata": {},
   "outputs": [],
   "source": [
    "tweets_df_1 = tweets_df_1.dropna()"
   ]
  },
  {
   "cell_type": "code",
   "execution_count": 77,
   "metadata": {},
   "outputs": [],
   "source": [
    "#tweets_df_1.to_csv('../data/boring_tweets.csv', index = False)"
   ]
  }
 ],
 "metadata": {
  "kernelspec": {
   "display_name": "Python 3",
   "language": "python",
   "name": "python3"
  },
  "language_info": {
   "codemirror_mode": {
    "name": "ipython",
    "version": 3
   },
   "file_extension": ".py",
   "mimetype": "text/x-python",
   "name": "python",
   "nbconvert_exporter": "python",
   "pygments_lexer": "ipython3",
   "version": "3.8.5"
  },
  "toc": {
   "base_numbering": 1,
   "nav_menu": {},
   "number_sections": true,
   "sideBar": true,
   "skip_h1_title": false,
   "title_cell": "Table of Contents",
   "title_sidebar": "Contents",
   "toc_cell": false,
   "toc_position": {},
   "toc_section_display": true,
   "toc_window_display": false
  }
 },
 "nbformat": 4,
 "nbformat_minor": 4
}
