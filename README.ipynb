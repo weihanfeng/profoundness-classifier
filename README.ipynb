{
 "cells": [
  {
   "cell_type": "markdown",
   "metadata": {},
   "source": [
    "# Profound Sentence Classifier"
   ]
  },
  {
   "cell_type": "markdown",
   "metadata": {},
   "source": [
    "## Try the Web App"
   ]
  },
  {
   "cell_type": "code",
   "execution_count": 10,
   "metadata": {},
   "outputs": [
    {
     "data": {
      "text/html": [
       "\n",
       "        <iframe\n",
       "            width=\"900\"\n",
       "            height=\"500\"\n",
       "            src=\"https://profoundornot.herokuapp.com/\"\n",
       "            frameborder=\"0\"\n",
       "            allowfullscreen\n",
       "        ></iframe>\n",
       "        "
      ],
      "text/plain": [
       "<IPython.lib.display.IFrame at 0x1f00b1c4af0>"
      ]
     },
     "execution_count": 10,
     "metadata": {},
     "output_type": "execute_result"
    }
   ],
   "source": [
    "from IPython.display import IFrame\n",
    "IFrame('https://profoundornot.herokuapp.com/', width=900, height=500)"
   ]
  },
  {
   "cell_type": "markdown",
   "metadata": {},
   "source": [
    "## Problem Statement"
   ]
  },
  {
   "cell_type": "markdown",
   "metadata": {},
   "source": [
    "It may seem easy for a human to tell a profound statement from a mundane/shallow one, but what really makes a statement profound? For this project, I seek to answer 3 questions:\n",
    "\n",
    "1. Is there a **pattern** to profound sentence?\n",
    "\n",
    "2. Can we develop a **subreddit classifier** to classify statements from r/oneliners (for mundane/shallow statements) vs r/quotes (for profound statements)?\n",
    "\n",
    "3. Can the classifier **generalize** to identify any profound statement?\n",
    "\n",
    "By answering these 3 questions, I hope that it will enhance our understanding of this deeper end of the human ingenuity and offer some insights to what makes a statement profound/important. For a future application, it could even help us in filtering a long text to extract the important and profound information."
   ]
  },
  {
   "cell_type": "markdown",
   "metadata": {},
   "source": [
    "## Dataset"
   ]
  },
  {
   "cell_type": "markdown",
   "metadata": {},
   "source": [
    "A total of **52197** posts were collected from r/oneliners and r/quotes:\n",
    "\n",
    "**Class 0: r/oneliners**\n",
    "- 22,479 posts\n",
    "- r/oneliner is a collection of succinct, funny or witty remark. The statement should fit into one sentence.\n",
    "- We take these quotes to be the anti-thesis of a profound quote, which means they are usually mundane, shallow and trivial (although they can be really funny)\n",
    "\n",
    "**Class1: r/quotes**\n",
    "- 29,718 posts\n",
    "- r/quotes is subreddit of a collection of current quotes, historic quotes, movie quotes, song lyric quotes, game quotes, book quotes, tv quotes or any gem of wisdom.\n",
    "- We take these quotes to be profound quotes\n",
    "\n",
    "***Note***\n",
    "\n",
    "1. To ensure consistency, care was taken to only extract posts which are only one line statements. Otherwise, posts from r/quotes may contain quotes that consists of multiple sentences.\n",
    "\n",
    "2. To ensure generalizability, only the statement itself was used for our analysis and modelling. Other features such as post self texts, comments, upvotes, etc were not taken into consideration"
   ]
  },
  {
   "cell_type": "markdown",
   "metadata": {},
   "source": [
    "From the post titles collected, we engineered additional features: \n",
    "\n",
    "- Title Length\n",
    "- Average Word Length\n",
    "- Longest Word Length\n",
    "- Dale-Chall Readability Score\n",
    "- Flesch–Kincaid Reading Ease\n",
    "- Sentiment Score (VADER)\n",
    "- Part of Speech (POS) Tagging"
   ]
  },
  {
   "cell_type": "markdown",
   "metadata": {},
   "source": [
    "## Model Evaluation"
   ]
  },
  {
   "cell_type": "markdown",
   "metadata": {},
   "source": [
    "Using a subset of our features: \n",
    "\n",
    "![feature_selection](./assets/feature_selection.png)\n",
    "\n",
    "Our model achived a cross validation accuracy score of **0.92** on the training data and a score of **0.93** on the test data using the Support Vector Classifier (SVC) \n",
    "\n",
    "![model_score](./assets/model_score.png)"
   ]
  },
  {
   "cell_type": "markdown",
   "metadata": {},
   "source": [
    "## Conclusion"
   ]
  },
  {
   "cell_type": "markdown",
   "metadata": {},
   "source": [
    "Let us answer the 3 questions"
   ]
  },
  {
   "cell_type": "markdown",
   "metadata": {},
   "source": [
    "**Is there a pattern to profound sentence?**\n",
    "\n",
    "* Yes, by looking at features like common words, sentence length, word length and word tags, we do see some differences between profound quotes and not so profound sentences. Generally profound quotes tend to have more profound topics such as life and love. They tend to be longer and contain word tags that tend to increase sentence complexity.*\n",
    "\n",
    "\n",
    "![common_words](./assets/most_common_words.png) \n",
    "\n",
    "Common words from r/quotes shows that love and life are common themes.\n",
    "\n",
    "![sentence length](./assets/sentece_length.png) \n",
    "\n",
    "r/quotes has longer sentence length\n",
    "\n",
    "![commas](./assets/commas.png) \n",
    "\n",
    "As well as more commas.\n",
    "\n",
    "![word_tags](./assets/word_tag_plt.png) \n",
    "\n",
    "Sentences from r/quotes also generally use language which increase sentence complexity, while r/oneliners use language which are less formal.\n",
    "\n",
    "\n",
    "**Can we develop a subreddit classifier to classify statements from r/oneliners vs r/quotes?**\n",
    "* Yes, the classifier did rather well in terms of classifying subreddits, achieveing a training score of almost 0.93.*\n",
    "\n",
    "\n",
    "\n",
    "**Can the classifier generalize to identify any profound statement?**\n",
    "* Yes, to texts which are obviously not so profound, as seen from our prediction of boring tweets, misclassifying only 3 of 131 tweets (0.98 accuracy). However, it can can be quite easily fooled by a human from our tests.*\n"
   ]
  },
  {
   "cell_type": "markdown",
   "metadata": {},
   "source": [
    "## Future developments"
   ]
  },
  {
   "cell_type": "markdown",
   "metadata": {},
   "source": [
    "**1. Cleaner data** - Some sentences from r/oneliners can be profound, while the inverse if true for r/quotes. Future datasets can be more thoroughly labelled to ensure that the data within a class is more homogenous. However, this could require human supervision. \n",
    "\n",
    "\n",
    "**2. Word corpus** - a corpus of profound terms or shallow words/internet slangs as reference for our classifier, for example, we could have a feature which is a percentage of words in the sentence which belongs to the corpus.\n",
    "\n",
    "\n",
    "**3. Contextual analysis** – Profoundness also depends a lot on context, our model mainly predicts base on word frequency, which does not take into account of context. In the future, contextual analysis methods can be explored. "
   ]
  }
 ],
 "metadata": {
  "kernelspec": {
   "display_name": "Python 3",
   "language": "python",
   "name": "python3"
  },
  "language_info": {
   "codemirror_mode": {
    "name": "ipython",
    "version": 3
   },
   "file_extension": ".py",
   "mimetype": "text/x-python",
   "name": "python",
   "nbconvert_exporter": "python",
   "pygments_lexer": "ipython3",
   "version": "3.8.5"
  },
  "toc": {
   "base_numbering": 1,
   "nav_menu": {},
   "number_sections": true,
   "sideBar": true,
   "skip_h1_title": false,
   "title_cell": "Table of Contents",
   "title_sidebar": "Contents",
   "toc_cell": false,
   "toc_position": {},
   "toc_section_display": true,
   "toc_window_display": false
  }
 },
 "nbformat": 4,
 "nbformat_minor": 4
}
